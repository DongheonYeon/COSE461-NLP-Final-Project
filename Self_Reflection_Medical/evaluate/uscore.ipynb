{
 "cells": [
  {
   "cell_type": "code",
   "execution_count": 1,
   "id": "3d90721c",
   "metadata": {},
   "outputs": [
    {
     "name": "stderr",
     "output_type": "stream",
     "text": [
      "/data/envs/nlnl/lib/python3.11/site-packages/tqdm/auto.py:21: TqdmWarning: IProgress not found. Please update jupyter and ipywidgets. See https://ipywidgets.readthedocs.io/en/stable/user_install.html\n",
      "  from .autonotebook import tqdm as notebook_tqdm\n",
      "2025-05-27 15:23:51.067548: E external/local_xla/xla/stream_executor/cuda/cuda_fft.cc:467] Unable to register cuFFT factory: Attempting to register factory for plugin cuFFT when one has already been registered\n",
      "WARNING: All log messages before absl::InitializeLog() is called are written to STDERR\n",
      "E0000 00:00:1748327031.094227  537397 cuda_dnn.cc:8579] Unable to register cuDNN factory: Attempting to register factory for plugin cuDNN when one has already been registered\n",
      "E0000 00:00:1748327031.102366  537397 cuda_blas.cc:1407] Unable to register cuBLAS factory: Attempting to register factory for plugin cuBLAS when one has already been registered\n",
      "W0000 00:00:1748327031.124733  537397 computation_placer.cc:177] computation placer already registered. Please check linkage and avoid linking the same target more than once.\n",
      "W0000 00:00:1748327031.124752  537397 computation_placer.cc:177] computation placer already registered. Please check linkage and avoid linking the same target more than once.\n",
      "W0000 00:00:1748327031.124755  537397 computation_placer.cc:177] computation placer already registered. Please check linkage and avoid linking the same target more than once.\n",
      "W0000 00:00:1748327031.124757  537397 computation_placer.cc:177] computation placer already registered. Please check linkage and avoid linking the same target more than once.\n",
      "2025-05-27 15:23:51.133441: I tensorflow/core/platform/cpu_feature_guard.cc:210] This TensorFlow binary is optimized to use available CPU instructions in performance-critical operations.\n",
      "To enable the following instructions: AVX2 FMA, in other operations, rebuild TensorFlow with the appropriate compiler flags.\n"
     ]
    }
   ],
   "source": [
    "import json\n",
    "from typing import List, Dict\n",
    "from sentence_transformers import SentenceTransformer, util\n",
    "from bert_score import score\n",
    "import pandas as pd\n",
    "\n",
    "import os\n",
    "tensor_parallel_size=2\n",
    "os.environ[\"CUDA_VISIBLE_DEVICES\"] = \"3, 4, 5, 6\"\n",
    "os.environ[\"VLLM_CACHE_ROOT\"] = \"/data/ydh/nlp/model/vllm_cache\"\n",
    "os.environ[\"HF_HOME\"] = \"/data/ydh/nlp/model/huggingface_model\"\n",
    "\n",
    "sbert_model = SentenceTransformer(\"all-MiniLM-L6-v2\")"
   ]
  },
  {
   "cell_type": "code",
   "execution_count": null,
   "id": "5d6486a1",
   "metadata": {},
   "outputs": [],
   "source": [
    "# 유사도 계산 함수\n",
    "def compute_similarity_scores(output_just: str, gt_just: str) -> Dict[str, float]:\n",
    "    emb_out = sbert_model.encode(output_just, convert_to_tensor=True)\n",
    "    emb_gt = sbert_model.encode(gt_just, convert_to_tensor=True)\n",
    "    cosine_sim = float(util.cos_sim(emb_out, emb_gt))\n",
    "\n",
    "    P, R, F1 = score([output_just], [gt_just], lang=\"en\", verbose=False)\n",
    "    return {\n",
    "        \"cosine_similarity\": cosine_sim,\n",
    "        \"bertscore_f1\": float(F1[0])\n",
    "    }\n",
    "\n",
    "# 평가 함수\n",
    "def evaluate_justifications(gt_path: str, output_path: str) -> List[Dict]:\n",
    "    with open(gt_path, \"r\", encoding=\"utf-8\") as f:\n",
    "        gt_items = [json.loads(line) for line in f]\n",
    "    with open(output_path, \"r\", encoding=\"utf-8\") as f:\n",
    "        out_items = [json.loads(line) for line in f]\n",
    "\n",
    "    gt_map = {item[\"id\"]: item for item in gt_items}\n",
    "    results = []\n",
    "\n",
    "    for out in out_items:\n",
    "        qid = out[\"id\"]\n",
    "        if qid not in gt_map:\n",
    "            continue\n",
    "\n",
    "        gt = gt_map[qid]\n",
    "        out_cands = out[\"candidate_answers\"]\n",
    "        gt_cands = gt[\"candidates\"]\n",
    "\n",
    "        for option, out_info in out_cands.items():\n",
    "            if option not in gt_cands:\n",
    "                continue\n",
    "\n",
    "            out_just = out_info[\"justification\"]\n",
    "            gt_just = gt_cands[option][\"justification\"]\n",
    "            gt_label = gt_cands[option][\"groundtruth\"]\n",
    "            is_chosen = out_info[\"predicted\"]\n",
    "\n",
    "            sim_scores = compute_similarity_scores(out_just, gt_just)\n",
    "\n",
    "            results.append({\n",
    "                \"id\": qid,\n",
    "                \"choice\": option,\n",
    "                \"chosen_by_gpt\": is_chosen,\n",
    "                \"is_groundtruth\": gt_label,\n",
    "                \"cosine_similarity\": sim_scores[\"cosine_similarity\"],\n",
    "                \"bertscore_f1\": sim_scores[\"bertscore_f1\"],\n",
    "                \"output_justification\": out_just,\n",
    "                \"gt_justification\": gt_just\n",
    "            })\n",
    "\n",
    "    return results"
   ]
  },
  {
   "cell_type": "code",
   "execution_count": 8,
   "id": "e654a168",
   "metadata": {},
   "outputs": [
    {
     "ename": "KeyError",
     "evalue": "'predicted'",
     "output_type": "error",
     "traceback": [
      "\u001b[31m---------------------------------------------------------------------------\u001b[39m",
      "\u001b[31mKeyError\u001b[39m                                  Traceback (most recent call last)",
      "\u001b[36mCell\u001b[39m\u001b[36m \u001b[39m\u001b[32mIn[8]\u001b[39m\u001b[32m, line 4\u001b[39m\n\u001b[32m      2\u001b[39m gt_path = \u001b[33m\"\u001b[39m\u001b[33m/data/ydh/nlp/dataset/test.jsonl\u001b[39m\u001b[33m\"\u001b[39m\n\u001b[32m      3\u001b[39m output_path = \u001b[33m\"\u001b[39m\u001b[33m/data/ydh/nlp/dataset/output.jsonl\u001b[39m\u001b[33m\"\u001b[39m\n\u001b[32m----> \u001b[39m\u001b[32m4\u001b[39m results = \u001b[43mevaluate_justifications\u001b[49m\u001b[43m(\u001b[49m\u001b[43mgt_path\u001b[49m\u001b[43m,\u001b[49m\u001b[43m \u001b[49m\u001b[43moutput_path\u001b[49m\u001b[43m)\u001b[49m\n\u001b[32m      6\u001b[39m \u001b[38;5;66;03m# 결과 저장 (선택사항)\u001b[39;00m\n\u001b[32m      7\u001b[39m df = pd.DataFrame(results)\n",
      "\u001b[36mCell\u001b[39m\u001b[36m \u001b[39m\u001b[32mIn[7]\u001b[39m\u001b[32m, line 39\u001b[39m, in \u001b[36mevaluate_justifications\u001b[39m\u001b[34m(gt_path, output_path)\u001b[39m\n\u001b[32m     37\u001b[39m gt_just = gt_cands[option][\u001b[33m\"\u001b[39m\u001b[33mjustification\u001b[39m\u001b[33m\"\u001b[39m]\n\u001b[32m     38\u001b[39m gt_label = gt_cands[option][\u001b[33m\"\u001b[39m\u001b[33mgroundtruth\u001b[39m\u001b[33m\"\u001b[39m]\n\u001b[32m---> \u001b[39m\u001b[32m39\u001b[39m is_chosen = \u001b[43mout_info\u001b[49m\u001b[43m[\u001b[49m\u001b[33;43m\"\u001b[39;49m\u001b[33;43mpredicted\u001b[39;49m\u001b[33;43m\"\u001b[39;49m\u001b[43m]\u001b[49m\n\u001b[32m     41\u001b[39m sim_scores = compute_similarity_scores(out_just, gt_just)\n\u001b[32m     43\u001b[39m results.append({\n\u001b[32m     44\u001b[39m     \u001b[33m\"\u001b[39m\u001b[33mid\u001b[39m\u001b[33m\"\u001b[39m: qid,\n\u001b[32m     45\u001b[39m     \u001b[33m\"\u001b[39m\u001b[33mchoice\u001b[39m\u001b[33m\"\u001b[39m: option,\n\u001b[32m   (...)\u001b[39m\u001b[32m     51\u001b[39m     \u001b[33m\"\u001b[39m\u001b[33mgt_justification\u001b[39m\u001b[33m\"\u001b[39m: gt_just\n\u001b[32m     52\u001b[39m })\n",
      "\u001b[31mKeyError\u001b[39m: 'predicted'"
     ]
    }
   ],
   "source": [
    "# 실행 예시\n",
    "gt_path = \"/data/ydh/nlp/dataset/test.jsonl\"\n",
    "output_path = \"/data/ydh/nlp/dataset/output.jsonl\"\n",
    "results = evaluate_justifications(gt_path, output_path)\n",
    "\n",
    "# 결과 저장 (선택사항)\n",
    "df = pd.DataFrame(results)\n",
    "df.to_csv(\"evaluation_results.csv\", index=False)"
   ]
  },
  {
   "cell_type": "code",
   "execution_count": null,
   "id": "b70b0ff2",
   "metadata": {},
   "outputs": [],
   "source": []
  }
 ],
 "metadata": {
  "kernelspec": {
   "display_name": "Python 3",
   "language": "python",
   "name": "python3"
  },
  "language_info": {
   "codemirror_mode": {
    "name": "ipython",
    "version": 3
   },
   "file_extension": ".py",
   "mimetype": "text/x-python",
   "name": "python",
   "nbconvert_exporter": "python",
   "pygments_lexer": "ipython3",
   "version": "3.11.12"
  }
 },
 "nbformat": 4,
 "nbformat_minor": 5
}
