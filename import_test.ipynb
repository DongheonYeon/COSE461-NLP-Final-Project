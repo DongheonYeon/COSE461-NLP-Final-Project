{
 "cells": [
  {
   "cell_type": "code",
   "execution_count": 14,
   "id": "2f18a83a",
   "metadata": {},
   "outputs": [],
   "source": [
    "#!/usr/bin/env python\n",
    "# coding: utf-8\n",
    "import argparse\n",
    "import os\n",
    "import sys\n",
    "import jsonlines\n",
    "import torch\n",
    "import transformers\n",
    "from peft import PeftModel\n",
    "from transformers import GenerationConfig, LlamaForCausalLM, LlamaTokenizer\n",
    "from tqdm import tqdm\n",
    "import numpy as np"
   ]
  },
  {
   "cell_type": "code",
   "execution_count": 15,
   "id": "fd3bafb5",
   "metadata": {},
   "outputs": [],
   "source": [
    "path_alpaca_lora = '/data/ydh/nlp/Self_Reflection_Medical/packages/alpaca-lora'\n",
    "sys.path.append(path_alpaca_lora)\n",
    "from utils.callbacks import Iteratorize, Stream\n",
    "from utils.prompter import Prompter"
   ]
  },
  {
   "cell_type": "code",
   "execution_count": 5,
   "id": "83067004",
   "metadata": {},
   "outputs": [],
   "source": [
    "path_CTRLEval = '/data/ydh/nlp/Self_Reflection_Medical/packages/CTRLEval'\n",
    "sys.path.append(path_CTRLEval)\n",
    "from ctrleval import CTRLEval"
   ]
  },
  {
   "cell_type": "code",
   "execution_count": 6,
   "id": "45157d11",
   "metadata": {},
   "outputs": [],
   "source": [
    "path_GPTScore = '/data/ydh/nlp/Self_Reflection_Medical/packages/GPTScore'\n",
    "sys.path.append(path_GPTScore)\n",
    "from gpt3_score import gpt3score"
   ]
  },
  {
   "cell_type": "code",
   "execution_count": 13,
   "id": "34a5c65c",
   "metadata": {},
   "outputs": [],
   "source": [
    "path_self = '/data/ydh/nlp/Self_Reflection_Medical'\n",
    "sys.path.append(path_self)\n",
    "from evaluate.sent_similarity import Sent_Similar\n",
    "from evaluate.loop_eval_utils import evaluate_response, evaluate_knowledge\n",
    "from loop_utils import main_loop"
   ]
  },
  {
   "cell_type": "markdown",
   "id": "d40a2be1",
   "metadata": {},
   "source": [
    "loop test"
   ]
  },
  {
   "cell_type": "code",
   "execution_count": 8,
   "id": "55f3222a",
   "metadata": {},
   "outputs": [
    {
     "name": "stderr",
     "output_type": "stream",
     "text": [
      "100%|██████████| 1/1 [00:00<00:00, 48.71it/s]"
     ]
    },
    {
     "name": "stdout",
     "output_type": "stream",
     "text": [
      "{'id': 'trivia_254', 'question': 'Which crusade was led by Philip II Augustus of France and Richard I of England?', 'candidate_answers': {'2nd Crusade': {'justification': 2, 'history_knowledge': 3, 'history_response': 4, 'generated_knowledge': 1}, '4th Crusade': {'justification': 2, 'history_knowledge': 3, 'history_response': 4, 'generated_knowledge': 1}, '5th Crusade': {'justification': 2, 'history_knowledge': 3, 'history_response': 4, 'generated_knowledge': 1}, '3rd Crusade': {'justification': 2, 'history_knowledge': 3, 'history_response': 4, 'generated_knowledge': 1}}}\n"
     ]
    },
    {
     "name": "stderr",
     "output_type": "stream",
     "text": [
      "\n"
     ]
    }
   ],
   "source": [
    "import json\n",
    "import jsonlines\n",
    "from tqdm import tqdm\n",
    "import copy\n",
    "input_file = '/data/ydh/nlp/dataset/test_one.jsonl'\n",
    "out_file = '/data/ydh/nlp/test_out.jsonl'\n",
    "testcase = 'exp1'\n",
    "# 항상 처음부터 실행\n",
    "with jsonlines.open(input_file) as reader:\n",
    "    reader = list(reader)\n",
    "    for i, line in tqdm(enumerate(reader), total=len(reader)):\n",
    "        line_copy = copy.deepcopy(line)\n",
    "        candidate_justifications = {}\n",
    "        if testcase == 'exp1':  # Self-Reflection\n",
    "            for candidate, data in line_copy['candidates'].items():\n",
    "                temp_line = {\n",
    "                    'id': line['id'],\n",
    "                    'question': line['question'],\n",
    "                    'candidate': candidate,\n",
    "                    'is_correct': data['predicted']\n",
    "                }\n",
    "                u_loop = False\n",
    "                final_knowledge, final_response, all_history_knowledge, all_history_response = 1,2,3,4\n",
    "                candidate_justifications[candidate] = {             \n",
    "                        'justification': final_response,\n",
    "                        'history_knowledge': all_history_knowledge,\n",
    "                        'history_response': all_history_response,\n",
    "                        'generated_knowledge': final_knowledge\n",
    "                    }\n",
    "            line_copy[\"candidate_answers\"] = candidate_justifications\n",
    "            del line_copy['candidates']  # Remove candidates from the output\n",
    "            # Write results\n",
    "            writer = jsonlines.open(out_file, mode='a')\n",
    "            print(line_copy)\n",
    "            writer.write(line_copy)\n",
    "            writer.close()\n",
    "        elif testcase == 'exp2':  # Classifier + Slef-Reflextion\n",
    "            for candidate_text, pred in line['candidates'].items():\n",
    "                temp_line = {\n",
    "                    'id': line['id'],\n",
    "                    'question': line['question'],\n",
    "                    'candidate': candidate_text,\n",
    "                    'is_correct': pred['predicted']\n",
    "                }\n",
    "                final_knowledge, final_response, all_history_knowledge, all_history_response = 1,2,3,4\n",
    "                candidate_justifications[candidate_text] = {             \n",
    "                            'justification': final_response,\n",
    "                            'history_knowledge': all_history_knowledge,\n",
    "                            'history_response': all_history_response,\n",
    "                            'generated_knowledge': final_knowledge\n",
    "                        }\n",
    "            line[\"candidate_answers\"] = candidate_justifications\n",
    "            # Write results\n",
    "            writer = jsonlines.open(out_file, mode='a')\n",
    "            print(line)\n",
    "            writer.write(line)\n",
    "            writer.close()\n"
   ]
  },
  {
   "cell_type": "code",
   "execution_count": null,
   "id": "f377c590",
   "metadata": {},
   "outputs": [],
   "source": []
  }
 ],
 "metadata": {
  "kernelspec": {
   "display_name": "Python 3",
   "language": "python",
   "name": "python3"
  },
  "language_info": {
   "codemirror_mode": {
    "name": "ipython",
    "version": 3
   },
   "file_extension": ".py",
   "mimetype": "text/x-python",
   "name": "python",
   "nbconvert_exporter": "python",
   "pygments_lexer": "ipython3",
   "version": "3.8.16"
  }
 },
 "nbformat": 4,
 "nbformat_minor": 5
}
